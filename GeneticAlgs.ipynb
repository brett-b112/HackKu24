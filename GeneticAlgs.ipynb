{
 "cells": [
  {
   "cell_type": "code",
   "execution_count": 502,
   "id": "307ad15a",
   "metadata": {},
   "outputs": [],
   "source": [
    "# Import the random module for random data\n",
    "import random\n",
    "import numpy as np\n",
    "import math"
   ]
  },
  {
   "cell_type": "code",
   "execution_count": 501,
   "id": "7355afe5",
   "metadata": {},
   "outputs": [
    {
     "name": "stdout",
     "output_type": "stream",
     "text": [
      "\n",
      "`-:-.   ,-;\"`-:-.   ,-;\"`-:-.   ,-;\"`-:-.   ,-;\"\n",
      "   `=`,'=/     `=`,'=/     `=`,'=/     `=`,'=/\n",
      "     y==/        y==/        y==/        y==/\n",
      "   ,=,-<=`.    ,=,-<=`.    ,=,-<=`.    ,=,-<=`.\n",
      ",-'-'   `-=_,-'-'   `-=_,-'-'   `-=_,-'-'   `-=_\n",
      "\n"
     ]
    }
   ],
   "source": [
    "print('''\n",
    "`-:-.   ,-;\"`-:-.   ,-;\"`-:-.   ,-;\"`-:-.   ,-;\"\n",
    "   `=`,'=/     `=`,'=/     `=`,'=/     `=`,'=/\n",
    "     y==/        y==/        y==/        y==/\n",
    "   ,=,-<=`.    ,=,-<=`.    ,=,-<=`.    ,=,-<=`.\n",
    ",-'-'   `-=_,-'-'   `-=_,-'-'   `-=_,-'-'   `-=_\n",
    "''')"
   ]
  },
  {
   "cell_type": "markdown",
   "id": "0fdb513b",
   "metadata": {},
   "source": [
    "## DNA\n",
    "---------\n",
    "This is a DNA data structure that has a left and right backbone which mimic the sugar and phosphate backbone. Then there are two vectors consisting of $\\mathbf{AT}$, adenine and thymine, and $\\mathbf{CG}$, Guanine and Cytosine respectively.\n",
    "\n",
    "The backbones consist of quadruply linked sentinels which allow for easy manuevering of the DNA structure.\n",
    "\n",
    "The $\\mathbf{AT}$ and $\\mathbf{CG}$ classes cosist of an entry that stores the value and is quadruply linked with connections to the other $\\mathbf{AT}$ or $\\mathbf{CG}$ node respectively and then is connected to the respective backbone."
   ]
  },
  {
   "cell_type": "code",
   "execution_count": 558,
   "id": "b57af068",
   "metadata": {},
   "outputs": [],
   "source": [
    "class DNA:\n",
    "    def __init__(self):\n",
    "        # I thought this was how you instantiated inner classes but maybe im just stupid\n",
    "        # self.right_backbone = self.right_backbone()\n",
    "        # self.left_backbone = self.left_backbone()\n",
    "        # self.AT = self.AT(entry=None)\n",
    "        # self.CG = self.CG(entry = None)\n",
    "        self.headL =  None\n",
    "        self.headR = None\n",
    "        self.fitness = -1\n",
    "        self.length = 0\n",
    "    #This is the right sugar-phosphate backbone\n",
    "    class right_backbone:\n",
    "        def __init__(self, entry=None):\n",
    "            self.entry = None\n",
    "            self.next = None\n",
    "            self.prev = None\n",
    "            self.left = None\n",
    "    # This is the left sugar-phosphat backbone\n",
    "    class left_backbone:\n",
    "        def __init__(self,entry=None):\n",
    "            self.entry = None\n",
    "            self.next = None\n",
    "            self.prev = None\n",
    "            self.right = None\n",
    "    #Central nodes (i.e. Adenine and Thymine)\n",
    "    class AT:\n",
    "        def __init__(self, entry):\n",
    "            self.entry = entry\n",
    "            self.left = None\n",
    "            self.right = None\n",
    "\n",
    "    # Central nodes (i.e. Guanine and Cytosine)\n",
    "    class CG:\n",
    "        def __init__(self, entry):\n",
    "            self.entry = entry\n",
    "            self.right = None\n",
    "            self.left = None\n",
    "\n",
    "    def insert_from_front(self, leftAT, rightCG):\n",
    "        \"\"\"This inserts a new row of genetic information to the front of the DNA\"\"\"\n",
    "        #This defines the sentinel backbone\n",
    "        self.length += 1\n",
    "        new_sentinel_left = self.left_backbone()\n",
    "        new_sentinel_right = self.right_backbone()\n",
    "        new_AT = self.AT(leftAT)\n",
    "        new_CG = self.CG(rightCG)\n",
    "        new_sentinel_left.right = new_AT\n",
    "        new_sentinel_right.left = new_CG\n",
    "        new_AT.left = new_sentinel_left\n",
    "        new_AT.right = new_CG\n",
    "        new_CG.right  = new_sentinel_right\n",
    "        new_CG.left = new_AT\n",
    "        if (self.headL == None and self.headR == None ):\n",
    "            self.headL = new_sentinel_left\n",
    "            self.headR = new_sentinel_right\n",
    "        else:\n",
    "            self.headL.prev = new_sentinel_left\n",
    "            self.headR.prev = new_sentinel_right \n",
    "            new_sentinel_left.next = self.headL\n",
    "            new_sentinel_right.next = self.headR\n",
    "            self.headL = new_sentinel_left\n",
    "            self.headR = new_sentinel_right\n",
    "\n",
    "    def print_dna(self):\n",
    "        '''This loops throguh and prints the DNA'''\n",
    "        if (self.headL == None and self.headR == None):\n",
    "            print(\"DNA strand is empty\")\n",
    "            return\n",
    "        currL = self.left_backbone()\n",
    "        currR = self.right_backbone()\n",
    "        currL = self.headL\n",
    "        currR = self.headR\n",
    "        while (currL != None and currR != None):\n",
    "            print(f\"|== {currL.right.entry} == {currR.left.entry} ==|\")\n",
    "            # print(f\"O == {currR.left.entry} == O\")\n",
    "            currL = currL.next\n",
    "            currR = currR.next\n",
    "    def get_inner_product(self):\n",
    "        '''inner product is defined as /theta = arccos( (x * y ) / ||x||||y|| ) with * being defined as the dot product in the VS) ''' \n",
    "        currL = self.headL \n",
    "        currR = self.headR\n",
    "        dot_product = 0 \n",
    "        norm_AT = 0\n",
    "        norm_CG = 0\n",
    "        while currL != None and currR != None:\n",
    "            dot_product += np.dot(currL.right.entry, currR.left.entry)\n",
    "            norm_AT += (abs((currL.right.entry))**2)\n",
    "            norm_CG += (abs((currR.left.entry))**2)\n",
    "            currL = currL.next\n",
    "            currR = currR.next\n",
    "        norm = math.sqrt(norm_AT) * math.sqrt(norm_CG)\n",
    "        numerator = dot_product\n",
    "        denominator = norm\n",
    "\n",
    "        # Calculate cosine of the angle between the vectors\n",
    "        if denominator > 0:\n",
    "            cosine_theta = numerator / denominator\n",
    "        else:\n",
    "            # Handle division by zero or very small norms\n",
    "            cosine_theta = 0.0  # Set default value to avoid invalid input to arccos\n",
    "    \n",
    "        # Clip cosine_theta to ensure it's within the valid range [-1, 1]\n",
    "        cosine_theta = np.clip(cosine_theta, -1.0, 1.0)\n",
    "        theta = np.arccos(cosine_theta)\n",
    "        # print(f\"The algorithm computed an inner product angle of θ={theta}\")\n",
    "        return theta\n",
    "\n",
    "\n"
   ]
  },
  {
   "cell_type": "markdown",
   "id": "446181ab",
   "metadata": {},
   "source": [
    "## Inner Product and Angle Calculation\n",
    "---------\n",
    "Generally inner product is any calculation on a vector space s.t. $f: \\mathbb{R}^n \\to \\mathbb{R}$\n",
    "\n",
    "The inner product between two vectors $\\mathbf{x}$ and $\\mathbf{y}$ in a vector space can be used to calculate the angle $\\theta$ between them using the formula:\n",
    "\n",
    "In this project $\\mathbf{x}$ and $\\mathbf{y}$ signify the $\\mathbf{AT}$ and $\\mathbf{CG}$ sides respectively. These are the vectors that correspond to each vertical column of information in the DNA.\n",
    "\n",
    "$$\n",
    "\\theta = \\arccos\\left( \\frac{\\mathbf{x} \\cdot \\mathbf{y}}{\\|\\mathbf{x}\\| \\|\\mathbf{y}\\|} \\right)\n",
    "$$\n",
    "\n",
    "Where:\n",
    "- $\\mathbf{x} \\cdot \\mathbf{y}$ denotes the dot product (or inner product) between vectors $\\mathbf{x}$ and $\\mathbf{y}$.\n",
    "- $\\|\\mathbf{x}\\|$ and $\\|\\mathbf{y}\\|$ represent the norms (or magnitudes) of vectors $\\mathbf{x}$ and $\\mathbf{y}$, respectively.\n",
    "\n",
    "The dot product $\\mathbf{x} \\cdot \\mathbf{y}$ is calculated as:\n",
    "\n",
    "$$\n",
    "\\mathbf{x} \\cdot \\mathbf{y} = \\sum_{i=1}^{n} x_i y_i\n",
    "$$\n",
    "\n",
    "Where $x_i$ and $y_i$ are the components of vectors $\\mathbf{x}$ and $\\mathbf{y}$, respectively.\n",
    "\n",
    "The norms $\\|\\mathbf{x}\\|$ and $\\|\\mathbf{y}\\|$ are calculated as:\n",
    "\n",
    "$$\n",
    "\\|\\mathbf{x}\\| = \\sqrt{\\sum_{i=1}^{n} x_i^2}\n",
    "$$\n",
    "$$\n",
    "\\|\\mathbf{y}\\| = \\sqrt{\\sum_{i=1}^{n} y_i^2}\n",
    "$$\n",
    "\n",
    "This was implemented in this project by using angles closer to 0 to signify a relatedness in vectors that was positive.\n"
   ]
  },
  {
   "cell_type": "markdown",
   "id": "9d325f05",
   "metadata": {},
   "source": [
    "## Fitness\n",
    "-----------\n",
    "Fitness is calculated by the $\\theta$ value that is closest to $0.0$ based on the intial population.\n",
    "\n",
    "The fitness is used to optimize for the angle to find a solution of the most connected DNA strand possible."
   ]
  },
  {
   "cell_type": "markdown",
   "id": "81320699",
   "metadata": {},
   "source": [
    "## Crossover\n",
    "-------------\n",
    "This function crosses two parents DNA and produces two children. This function occurs in nature during meiosis when chromosomes are lined up, which in this case are the $\\mathbf{AT}$ and $\\mathbf{CG}$ vectors respectively."
   ]
  },
  {
   "cell_type": "code",
   "execution_count": 559,
   "id": "ae5fe921",
   "metadata": {},
   "outputs": [],
   "source": [
    "def crossover(sequence1, sequence2):\n",
    "    currL1 = sequence1.headL\n",
    "    currL2 = sequence2.headL\n",
    "\n",
    "    while currL1 is not None and currL2 is not None:\n",
    "        # Swap the entry values in the left backbone nodes\n",
    "        temp_entry = currL1.right.entry\n",
    "        currL1.right.entry = currL2.right.entry\n",
    "        currL2.right.entry = temp_entry\n",
    "        \n",
    "        # Move to the next nodes in both sequences\n",
    "        currL1 = currL1.next\n",
    "        currL2 = currL2.next\n",
    "\n",
    "    return sequence1, sequence2"
   ]
  },
  {
   "cell_type": "code",
   "execution_count": 560,
   "id": "050a1caf",
   "metadata": {},
   "outputs": [
    {
     "name": "stdout",
     "output_type": "stream",
     "text": [
      "Example crossover of Genes\n",
      "\n",
      "\n",
      "\n",
      "O       o O       o O       o\n",
      "| O   o | | O   o | | O   o |\n",
      "| | O | | | | O | | | | O | |\n",
      "| o   O | | o   O | | o   O |\n",
      "o       O o       O o       O\n",
      "\n",
      "\n",
      "\n",
      "Normal Sequence 1: \n",
      "|== 1 == 1 ==|\n",
      "|== 1 == 1 ==|\n",
      "Normal Sequence 2: \n",
      "|== 2 == 3 ==|\n",
      "|== 2 == 2 ==|\n",
      "Crossover Sequence 1 \n",
      "|== 2 == 1 ==|\n",
      "|== 2 == 1 ==|\n",
      "Crossover Sequence 2 \n",
      "|== 1 == 3 ==|\n",
      "|== 1 == 2 ==|\n"
     ]
    }
   ],
   "source": [
    "new_DNA1 = DNA()\n",
    "new_DNA1.insert_from_front(1,1)\n",
    "new_DNA1.insert_from_front(1,1)\n",
    "new_DNA2 = DNA()\n",
    "new_DNA2.insert_from_front(2,2)\n",
    "new_DNA2.insert_from_front(2,3)\n",
    "\n",
    "print(\"Example crossover of Genes\")\n",
    "print()\n",
    "print('''\n",
    "\n",
    "O       o O       o O       o\n",
    "| O   o | | O   o | | O   o |\n",
    "| | O | | | | O | | | | O | |\n",
    "| o   O | | o   O | | o   O |\n",
    "o       O o       O o       O\n",
    "\n",
    "\n",
    "''')\n",
    "print(\"Normal Sequence 1: \")\n",
    "new_DNA1.print_dna()\n",
    "\n",
    "print(\"Normal Sequence 2: \")\n",
    "new_DNA2.print_dna()\n",
    "\n",
    "new_DNA3, new_DNA4 = crossover(new_DNA1,new_DNA2)\n",
    "print(\"Crossover Sequence 1 \")\n",
    "new_DNA3.print_dna()\n",
    "\n",
    "print(\"Crossover Sequence 2 \")\n",
    "new_DNA4.print_dna()\n",
    "\n",
    "\n",
    "\n",
    "      \n",
    "      \n",
    "      \n",
    "      \n",
    "      "
   ]
  },
  {
   "cell_type": "markdown",
   "id": "05e210b7",
   "metadata": {},
   "source": [
    "## Intialize Population\n",
    "-----------\n",
    "This creates a population with a predetermined population size populated with DNA strands."
   ]
  },
  {
   "cell_type": "code",
   "execution_count": 561,
   "id": "9afe08ff",
   "metadata": {},
   "outputs": [],
   "source": [
    "def initialize_population(pop_size, dna_length):\n",
    "    \n",
    "    # This is a list comprehension for making a population of DNA\n",
    "    population = [DNA() for _ in range(pop_size)]\n",
    "    for dna in population:\n",
    "        for _ in range(dna_length):\n",
    "            left_val = random.randint(1, 10)  # Example: random initialization of values\n",
    "            right_val = random.randint(1, 10)\n",
    "            dna.insert_from_front(left_val, right_val)\n",
    "    return population"
   ]
  },
  {
   "cell_type": "markdown",
   "id": "0c2964b3",
   "metadata": {},
   "source": [
    "## Evaluating Fitness\n",
    "-----------\n",
    "Evaluating fitness stores the inner value product with the strand."
   ]
  },
  {
   "cell_type": "code",
   "execution_count": 562,
   "id": "40a22fbc",
   "metadata": {},
   "outputs": [],
   "source": [
    "def evaluate_fitness(population):\n",
    "    '''This is evaluating the fitness of the population'''\n",
    "    for dna in population:\n",
    "        fitness_value = dna.get_inner_product()\n",
    "        #We are using the inner product value to determine the fitness\n",
    "        # In this the lower the score indicates a better fitness for surviing\n",
    "        # A lower score means it is more closely related\n",
    "        dna.fitness = fitness_value"
   ]
  },
  {
   "cell_type": "markdown",
   "id": "ce86fb11",
   "metadata": {},
   "source": [
    "## Selection \n",
    "-------------\n",
    "Selection takes the top 75% most fit of the population and creates a new population with them. This ensures that each next population is generally more fit than the previous generation."
   ]
  },
  {
   "cell_type": "code",
   "execution_count": 563,
   "id": "c39ed7d3",
   "metadata": {},
   "outputs": [],
   "source": [
    "def selection(population, pop_size):\n",
    "    sub_pop = math.floor(pop_size*0.75)\n",
    "    # We are sorting by fitness here\n",
    "    sorted_population = sorted(population, key=lambda x: x.fitness)\n",
    "    # as a result we are taking 75 percent of the population\n",
    "    return sorted_population[:sub_pop]\n"
   ]
  },
  {
   "cell_type": "markdown",
   "id": "b5d6cebe",
   "metadata": {},
   "source": [
    "## Mutation\n",
    "----------------------\n",
    "\n",
    "Mutation uses a standard mutation rate of 5% or a random rate if smaller against random values to determine the percentage of the population that is mutated.\n",
    "\n",
    "If random.random() generates a number less than mutation_rate, the condition evaluates to True, indicating that a mutation should occur.\n",
    "\n",
    "If random.random() generates a number greater than or equal to mutation_rate, the condition evaluates to False, indicating that no mutation should occur.\n",
    "\n",
    "The mutation then performs a multiplication of the curent entry against a value between 0.1 and 1.0 which will keep it inclusive within the sin domain."
   ]
  },
  {
   "cell_type": "code",
   "execution_count": 564,
   "id": "35c9d86c",
   "metadata": {},
   "outputs": [],
   "source": [
    "def mutate(dna, mutation_rate):\n",
    "    if random.random() < mutation_rate:\n",
    "        # mutation_position = random.randint(0, len(dna_length) - 1)  # Select a random position in the DNA sequence\n",
    "        # curr_dna = dna[mutation_position]\n",
    "        currL = dna.headL\n",
    "        currR = dna.headR\n",
    "        while (currL != None and currR != None):\n",
    "            #This finds a random value between 0.1 and 1.0 included up to 10 decimal places\n",
    "            rand1 = round(random.uniform(0.1,1.0), 10)\n",
    "            currL.right.entry = ((currL.right.entry)*rand1)\n",
    "            currR.left.entry = ((currR.left.entry)*rand1)\n",
    "            currL = currL.next\n",
    "            currR = currR.next"
   ]
  },
  {
   "cell_type": "markdown",
   "id": "ff35e442",
   "metadata": {},
   "source": [
    "## Complete Genetic Algorithm\n",
    "----------\n",
    "This section utilizes all the previous methods and the DNA data structure to construct a genetic algorithm that uses generations to tend towards a more fit population. \n",
    "\n",
    "The length of a DNA strand, the size of the population, the number of generations, and the mutation rate are all passed as parameters.\n",
    "From here an intial population is generated and then and then from that the fitness of each strand is evaluated and parents are generated. \n",
    "Next, the parents are bread to produce two children and the children are possibly mutated and then appended to the new population.\n",
    "From this new population we repreat this until the end of the selected number of generations. \n",
    "\n",
    "Over this time the population grows more fit and the most fit is then selected from the final population completing the genetic algorithm."
   ]
  },
  {
   "cell_type": "code",
   "execution_count": 590,
   "id": "15214908",
   "metadata": {},
   "outputs": [],
   "source": [
    "def genetic_algorithm(dna_length,pop_size, num_generations, mutation_rate):\n",
    "    print(\"Beginning Genetic Algorithm.....\")\n",
    "    print('''\n",
    "\n",
    "`-:-.   ,-;\"`-:-.   ,-;\"`-:-.   ,-;\"`-:-.   ,-;\"\n",
    "   `=`,'=/     `=`,'=/     `=`,'=/     `=`,'=/\n",
    "     y==/        y==/        y==/        y==/\n",
    "   ,=,-<=`.    ,=,-<=`.    ,=,-<=`.    ,=,-<=`.\n",
    ",-'-'   `-=_,-'-'   `-=_,-'-'   `-=_,-'-'   `-=_\n",
    "\n",
    "\n",
    "''')\n",
    "    population = initialize_population(pop_size, dna_length)\n",
    "\n",
    "    for generation in range(num_generations):\n",
    "        evaluate_fitness(population)\n",
    "        parents = selection(population, pop_size)\n",
    "        new_population = []\n",
    "        while len(new_population) < pop_size:\n",
    "            parent1 = random.choice(parents)\n",
    "            parent2 = random.choice(parents)\n",
    "            child1, child2 = crossover(parent1, parent2)\n",
    "            mutate(child1, mutation_rate)\n",
    "            mutate(child2, mutation_rate)\n",
    "            new_population.append(child1)\n",
    "            new_population.append(child2)\n",
    "        population = new_population\n",
    "          # Return the best individual \n",
    "    best_individual = max(population, key=lambda x: x.fitness)\n",
    "    best_output = best_individual.print_dna()\n",
    "    print()\n",
    "    print(\"Algorithm Complete...\")\n",
    "    return best_individual.get_inner_product()"
   ]
  },
  {
   "cell_type": "markdown",
   "id": "471d7d80",
   "metadata": {},
   "source": [
    "## Fitness Over Generations\n",
    "------- \n",
    "Based on the results below you can see how as the number of generations increase so does the fitness level, leading to enhacned optimization."
   ]
  },
  {
   "cell_type": "code",
   "execution_count": 605,
   "id": "fc283572",
   "metadata": {},
   "outputs": [
    {
     "name": "stdout",
     "output_type": "stream",
     "text": [
      "Beginning Genetic Algorithm.....\n",
      "\n",
      "\n",
      "`-:-.   ,-;\"`-:-.   ,-;\"`-:-.   ,-;\"`-:-.   ,-;\"\n",
      "   `=`,'=/     `=`,'=/     `=`,'=/     `=`,'=/\n",
      "     y==/        y==/        y==/        y==/\n",
      "   ,=,-<=`.    ,=,-<=`.    ,=,-<=`.    ,=,-<=`.\n",
      ",-'-'   `-=_,-'-'   `-=_,-'-'   `-=_,-'-'   `-=_\n",
      "\n",
      "\n",
      "\n",
      "|== 10 == 8 ==|\n",
      "|== 10 == 1 ==|\n",
      "|== 2 == 4 ==|\n",
      "\n",
      "Algorithm Complete...\n",
      "The fittest sequence had a inner product of 0.7038215280488772 which means that the DNA consists of the most closely related data by way of angle.\n"
     ]
    }
   ],
   "source": [
    "pop_size = 10\n",
    "num_generations = 1\n",
    "mutation_rate = 0.05\n",
    "dna_length = 3\n",
    "final_gene = genetic_algorithm(dna_length, pop_size, num_generations,mutation_rate)\n",
    "print(f\"The fittest sequence had a inner product of {final_gene} which means that the DNA consists of the most closely related data by way of angle.\")\n"
   ]
  },
  {
   "cell_type": "code",
   "execution_count": 607,
   "id": "cab2e70b",
   "metadata": {},
   "outputs": [
    {
     "name": "stdout",
     "output_type": "stream",
     "text": [
      "Beginning Genetic Algorithm.....\n",
      "\n",
      "\n",
      "`-:-.   ,-;\"`-:-.   ,-;\"`-:-.   ,-;\"`-:-.   ,-;\"\n",
      "   `=`,'=/     `=`,'=/     `=`,'=/     `=`,'=/\n",
      "     y==/        y==/        y==/        y==/\n",
      "   ,=,-<=`.    ,=,-<=`.    ,=,-<=`.    ,=,-<=`.\n",
      ",-'-'   `-=_,-'-'   `-=_,-'-'   `-=_,-'-'   `-=_\n",
      "\n",
      "\n",
      "\n",
      "|== 0.019511565551648923 == 0.11448363568182796 ==|\n",
      "|== 0.31420924601684946 == 0.4016100604044393 ==|\n",
      "|== 0.005975126347673892 == 0.013430727610163598 ==|\n",
      "\n",
      "Algorithm Complete...\n",
      "The fittest sequence had a inner product of 0.2160081660534121 which means that the DNA consists of the most closely related data by way of angle.\n"
     ]
    }
   ],
   "source": [
    "pop_size = 10\n",
    "num_generations = 10\n",
    "mutation_rate = 0.05\n",
    "dna_length = 3\n",
    "final_gene = genetic_algorithm(dna_length, pop_size, num_generations,mutation_rate)\n",
    "print(f\"The fittest sequence had a inner product of {final_gene} which means that the DNA consists of the most closely related data by way of angle.\")\n"
   ]
  },
  {
   "cell_type": "code",
   "execution_count": 614,
   "id": "9b8c72c0",
   "metadata": {},
   "outputs": [
    {
     "name": "stdout",
     "output_type": "stream",
     "text": [
      "Beginning Genetic Algorithm.....\n",
      "\n",
      "\n",
      "`-:-.   ,-;\"`-:-.   ,-;\"`-:-.   ,-;\"`-:-.   ,-;\"\n",
      "   `=`,'=/     `=`,'=/     `=`,'=/     `=`,'=/\n",
      "     y==/        y==/        y==/        y==/\n",
      "   ,=,-<=`.    ,=,-<=`.    ,=,-<=`.    ,=,-<=`.\n",
      ",-'-'   `-=_,-'-'   `-=_,-'-'   `-=_,-'-'   `-=_\n",
      "\n",
      "\n",
      "\n",
      "|== 1.820748506567055e-17 == 4.85532935084548e-17 ==|\n",
      "|== 3.049975631783936e-19 == 1.0674914711243775e-18 ==|\n",
      "|== 7.454106823647831e-15 == 1.4908213647295663e-14 ==|\n",
      "\n",
      "Algorithm Complete...\n",
      "The fittest sequence had a inner product of 0.0008147751864158268 which means that the DNA consists of the most closely related data by way of angle.\n"
     ]
    }
   ],
   "source": [
    "pop_size = 10\n",
    "num_generations = 100\n",
    "mutation_rate = 0.05\n",
    "dna_length = 3\n",
    "final_gene = genetic_algorithm(dna_length, pop_size, num_generations,mutation_rate)\n",
    "print(f\"The fittest sequence had a inner product of {final_gene} which means that the DNA consists of the most closely related data by way of angle.\")\n"
   ]
  },
  {
   "cell_type": "code",
   "execution_count": null,
   "id": "c7f64d9b",
   "metadata": {},
   "outputs": [],
   "source": []
  }
 ],
 "metadata": {
  "kernelspec": {
   "display_name": "Python 3 (ipykernel)",
   "language": "python",
   "name": "python3"
  },
  "language_info": {
   "codemirror_mode": {
    "name": "ipython",
    "version": 3
   },
   "file_extension": ".py",
   "mimetype": "text/x-python",
   "name": "python",
   "nbconvert_exporter": "python",
   "pygments_lexer": "ipython3",
   "version": "3.10.6"
  }
 },
 "nbformat": 4,
 "nbformat_minor": 5
}
